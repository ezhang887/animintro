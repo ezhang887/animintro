{
 "cells": [
  {
   "cell_type": "code",
   "execution_count": null,
   "metadata": {},
   "outputs": [],
   "source": [
    "from platform import python_version\n",
    "print(python_version())"
   ]
  },
  {
   "cell_type": "code",
   "execution_count": 1,
   "metadata": {},
   "outputs": [],
   "source": [
    "import torchaudio\n",
    "import torch\n",
    "\n",
    "import torch.nn as nn\n",
    "import torch.optim as optim\n",
    "import torch.nn.functional as F\n",
    "\n",
    "from torch.utils.data import Dataset\n",
    "\n",
    "import matplotlib.pyplot as plt\n",
    "import numpy as np"
   ]
  },
  {
   "cell_type": "code",
   "execution_count": 2,
   "metadata": {},
   "outputs": [],
   "source": [
    "device = torch.device(\"cuda\")"
   ]
  },
  {
   "cell_type": "markdown",
   "metadata": {},
   "source": [
    "## Load Data"
   ]
  },
  {
   "cell_type": "code",
   "execution_count": 3,
   "metadata": {},
   "outputs": [],
   "source": [
    "aud_1 = \"data/Audio/One_Punch_Man_1.wav\"\n",
    "aud_2 = \"data/Audio/One_Punch_Man_5.wav\"\n",
    "aud_3 = \"data/Audio/One_Punch_Man_6.wav\"\n",
    "\n",
    "waveform_1, sample_freq_1 = torchaudio.load(aud_1)\n",
    "waveform_2, sample_freq_2 = torchaudio.load(aud_2)\n",
    "waveform_3, sample_freq_3 = torchaudio.load(aud_3)\n",
    "\n",
    "data = []\n",
    "data.append(waveform_1)\n",
    "data.append(waveform_2)\n",
    "data.append(waveform_3)"
   ]
  },
  {
   "cell_type": "code",
   "execution_count": 4,
   "metadata": {},
   "outputs": [],
   "source": [
    "def pad_audio(data):\n",
    "    longest = max(map(lambda x: x.shape[1], data))\n",
    "    for i in range(len(data)):\n",
    "        zeros = torch.zeros(2, (longest - data[i].shape[1]))\n",
    "        data[i] = torch.cat((data[i], zeros), dim=1)\n",
    "    return torch.stack(data)\n",
    "\n",
    "tensor_data = pad_audio(data)"
   ]
  },
  {
   "cell_type": "code",
   "execution_count": 5,
   "metadata": {},
   "outputs": [
    {
     "name": "stdout",
     "output_type": "stream",
     "text": [
      "tensor([[ 196.2080,  285.5490, 1335.5129, 1423.5129],\n",
      "        [  75.5830,  164.4650, 1327.3361, 1414.3390],\n",
      "        [ 194.4970,  283.6300, 1283.3770, 1370.8800]])\n",
      "tensor([ 155.4293,  244.5480, 1315.4087, 1402.9106])\n",
      "tensor([[ 40.7787,  41.0010,  20.1042,  20.6023],\n",
      "        [-79.8463, -80.0830,  11.9274,  11.4283],\n",
      "        [ 39.0677,  39.0820, -32.0317, -32.0306]])\n"
     ]
    }
   ],
   "source": [
    "label_1 = \"data/Labels/nick/One_Punch_Man_1.label\"\n",
    "label_2 = \"data/Labels/nick/One_Punch_Man_5.label\"\n",
    "label_3 = \"data/Labels/nick/One_Punch_Man_6.label\"\n",
    "\n",
    "labels = []\n",
    "for filename in [label_1, label_2, label_3]:\n",
    "    f = open(filename, \"r\")\n",
    "    label = []\n",
    "    for i in range(4):\n",
    "        label.append(int(f.readline()))\n",
    "    labels.append(label)\n",
    "labels = torch.Tensor(labels)\n",
    "labels = labels / 1000\n",
    "print(labels)\n",
    "print(labels.mean(dim=0))\n",
    "labels = labels - labels.mean(dim=0)\n",
    "print(labels)"
   ]
  },
  {
   "cell_type": "markdown",
   "metadata": {},
   "source": [
    "#### Pytorch Dataset"
   ]
  },
  {
   "cell_type": "code",
   "execution_count": 6,
   "metadata": {},
   "outputs": [],
   "source": [
    "# Not being used yet\n",
    "class AnimeAudioDataset(Dataset):\n",
    "    \n",
    "    def __init__(self):\n",
    "        aud_1 = \"data/Audio/One_Punch_Man_1.wav\"\n",
    "        aud_2 = \"data/Audio/One_Punch_Man_5.wav\"\n",
    "        aud_3 = \"data/Audio/One_Punch_Man_6.wav\"\n",
    "\n",
    "        waveform_1, sample_freq_1 = torchaudio.load(aud_1)\n",
    "        waveform_2, sample_freq_2 = torchaudio.load(aud_2)\n",
    "        waveform_3, sample_freq_3 = torchaudio.load(aud_3)\n",
    "\n",
    "        self.data = []\n",
    "        self.data.append(waveform_1)\n",
    "        self.data.append(waveform_2)\n",
    "        self.data.append(waveform_3)\n",
    "    \n",
    "    def __len__(self):\n",
    "        return len(self.data)\n",
    "    \n",
    "    def __get__item(self, idx):\n",
    "        # idx can be a tensor\n",
    "        return self.data[idx]\n",
    "\n",
    "anime_audio_data = AnimeAudioDataset() "
   ]
  },
  {
   "cell_type": "markdown",
   "metadata": {},
   "source": [
    "## Define Network"
   ]
  },
  {
   "cell_type": "code",
   "execution_count": 9,
   "metadata": {},
   "outputs": [],
   "source": [
    "class Net(nn.Module):\n",
    "    def __init__(self):\n",
    "        super(Net, self).__init__()\n",
    "        self.magic_num = 234395 * 4\n",
    "        self.conv1 = nn.Conv1d(2, 4, 1600, stride=10)\n",
    "        self.pool = nn.MaxPool1d(5)\n",
    "        # self.conv2 = nn.Conv1d(4, 8, 400, stride=10)\n",
    "        self.fc1 = nn.Linear(self.magic_num, 4)\n",
    "        # self.fc2 = nn.Linear(10000, 100)\n",
    "        # self.fc3 = nn.Linear(100, 4)\n",
    "    \n",
    "    def forward(self, x):\n",
    "        x = self.pool(F.relu(self.conv1(x)))\n",
    "        # x = self.pool(F.relu(self.conv2(x)))\n",
    "        x = x.view(-1, self.magic_num)\n",
    "        # x = F.relu(self.fc1(x))\n",
    "        # x = F.relu(self.fc2(x))\n",
    "        # x = self.fc3(x)\n",
    "        x = self.fc1(x)\n",
    "        return x\n",
    "    \n",
    "net = Net()"
   ]
  },
  {
   "cell_type": "code",
   "execution_count": 10,
   "metadata": {},
   "outputs": [
    {
     "name": "stdout",
     "output_type": "stream",
     "text": [
      "torch.Size([1, 4, 234395])\n",
      "tensor([[-0.0022, -0.0142, -0.0081, -0.0295]], grad_fn=<AddmmBackward>)\n"
     ]
    }
   ],
   "source": [
    "x = data[0].unsqueeze(0)\n",
    "x = net.pool(F.relu(net.conv1(x)))\n",
    "# x = net.pool(F.relu(net.conv2(x)))\n",
    "print(x.shape)\n",
    "x = x.view(-1, net.magic_num)\n",
    "x = net.fc1(x)\n",
    "print(x)"
   ]
  },
  {
   "cell_type": "code",
   "execution_count": 30,
   "metadata": {},
   "outputs": [],
   "source": [
    "net = Net()\n",
    "criterion = nn.MSELoss().to(device)\n",
    "optimizer = optim.SGD(net.parameters(), lr=0.0003, momentum=0)"
   ]
  },
  {
   "cell_type": "code",
   "execution_count": 31,
   "metadata": {},
   "outputs": [
    {
     "data": {
      "text/plain": [
       "Net(\n",
       "  (conv1): Conv1d(2, 4, kernel_size=(1600,), stride=(10,))\n",
       "  (pool): MaxPool1d(kernel_size=5, stride=5, padding=0, dilation=1, ceil_mode=False)\n",
       "  (fc1): Linear(in_features=937580, out_features=4, bias=True)\n",
       ")"
      ]
     },
     "execution_count": 31,
     "metadata": {},
     "output_type": "execute_result"
    }
   ],
   "source": [
    "tensor_data = tensor_data.to(device)\n",
    "labels = labels.to(device)\n",
    "net.cuda()"
   ]
  },
  {
   "cell_type": "code",
   "execution_count": 32,
   "metadata": {},
   "outputs": [
    {
     "name": "stdout",
     "output_type": "stream",
     "text": [
      "loss 1861.9652099609375\n",
      "loss 1712.8060302734375\n",
      "loss 1495.333740234375\n",
      "loss 1058.256591796875\n",
      "loss 354.7622985839844\n",
      "loss 13.10226821899414\n",
      "loss 3.1527061462402344\n",
      "loss 27.252883911132812\n",
      "loss 274.84857177734375\n",
      "loss 675.4430541992188\n"
     ]
    }
   ],
   "source": [
    "for epoch in range(10):\n",
    "    \n",
    "    optimizer.zero_grad()\n",
    "    \n",
    "    outputs = net(tensor_data)\n",
    "    loss = criterion(outputs, labels)\n",
    "    print('loss', loss.item())\n",
    "    loss.backward()\n",
    "    optimizer.step()"
   ]
  },
  {
   "cell_type": "code",
   "execution_count": null,
   "metadata": {},
   "outputs": [],
   "source": [
    "# util to find magic numbers\n",
    "x = data[0].unsqueeze(0)\n",
    "x = net.pool(F.relu(net.conv1(x)))\n",
    "print(x.shape)\n",
    "x = x.view(-1, 5859 * 16)\n",
    "# print(x.shape)\n",
    "x = F.relu(net.fc1(x))\n",
    "x = F.relu(net.fc2(x))\n",
    "x = net.fc3(x)\n",
    "print(x)\n",
    "pass"
   ]
  },
  {
   "cell_type": "code",
   "execution_count": null,
   "metadata": {},
   "outputs": [],
   "source": []
  },
  {
   "cell_type": "code",
   "execution_count": null,
   "metadata": {},
   "outputs": [],
   "source": []
  },
  {
   "cell_type": "code",
   "execution_count": null,
   "metadata": {},
   "outputs": [],
   "source": []
  },
  {
   "cell_type": "code",
   "execution_count": null,
   "metadata": {},
   "outputs": [],
   "source": [
    "test_audio = \"data/Audio/Haikyuu!!_14.wav\"\n",
    "waveform, sample_rate = torchaudio.load(test_audio)\n",
    "'''\n",
    "print(\"Shape of waveform: {}\".format(waveform.size()))\n",
    "print(\"Sample rate of waveform: {}\".format(sample_rate))\n",
    "\n",
    "plt.figure()\n",
    "plt.plot(waveform.t().numpy())\n",
    "'''\n",
    "pass"
   ]
  },
  {
   "cell_type": "code",
   "execution_count": null,
   "metadata": {},
   "outputs": [],
   "source": [
    "specgram = torchaudio.transforms.Spectrogram()(waveform)"
   ]
  },
  {
   "cell_type": "code",
   "execution_count": null,
   "metadata": {},
   "outputs": [],
   "source": [
    "print(\"Shape of spectrogram: {}\".format(specgram.size()))\n",
    "\n",
    "plt.figure()\n",
    "plt.imshow(specgram.log2()[0,:,:].numpy(), cmap='gray')"
   ]
  },
  {
   "cell_type": "code",
   "execution_count": null,
   "metadata": {},
   "outputs": [],
   "source": [
    "specgram.log2()[0,:,1000:1010].numpy()"
   ]
  },
  {
   "cell_type": "code",
   "execution_count": null,
   "metadata": {},
   "outputs": [],
   "source": []
  }
 ],
 "metadata": {
  "kernelspec": {
   "display_name": "mykernel",
   "language": "python",
   "name": "mykernel"
  },
  "language_info": {
   "codemirror_mode": {
    "name": "ipython",
    "version": 3
   },
   "file_extension": ".py",
   "mimetype": "text/x-python",
   "name": "python",
   "nbconvert_exporter": "python",
   "pygments_lexer": "ipython3",
   "version": "3.6.8"
  }
 },
 "nbformat": 4,
 "nbformat_minor": 2
}
