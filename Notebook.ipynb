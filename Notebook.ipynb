{
 "cells": [
  {
   "cell_type": "code",
   "execution_count": null,
   "metadata": {},
   "outputs": [],
   "source": [
    "import torchaudio\n",
    "import torch\n",
    "import os\n",
    "\n",
    "import matplotlib.pyplot as plt\n",
    "import numpy as np\n",
    "import torch.nn as nn\n",
    "import torch.optim as optim\n",
    "import torch.nn.functional as F\n",
    "\n",
    "from torch.utils.data import Dataset\n",
    "\n",
    "device = torch.device(\"cuda\")"
   ]
  },
  {
   "cell_type": "markdown",
   "metadata": {},
   "source": [
    "## Load Data"
   ]
  },
  {
   "cell_type": "code",
   "execution_count": null,
   "metadata": {},
   "outputs": [],
   "source": [
    "class AnimeAudioDataset(Dataset):\n",
    "    \"\"\"\n",
    "    Load in audio file names and get the length of the largest audio sample.\n",
    "    Audio is loaded into memory when _get_item is called\n",
    "    \n",
    "    Labels are all loaded into memory and normalized during initialization\n",
    "    \"\"\"\n",
    "    \n",
    "    def __init__(self):\n",
    "\n",
    "        self.audio_dir = 'data/Audio'\n",
    "        self.label_dir = 'data/Labels/nick'\n",
    "        \n",
    "        self.audio_files, self.max_length = self._load_audio()\n",
    "        raw_labels = self._load_labels(self.audio_files)\n",
    "        self.labels, self.l_mean, self.l_std = self._normalize_labels(raw_labels)\n",
    "        self.labels = self.labels.to(device)\n",
    "    \n",
    "        assert len(self.audio_files) == len(self.labels)\n",
    "        \n",
    "        '''\n",
    "        self.data = self._pad_audio(self._load_audio())\n",
    "        self.labels, self.label_mean, self.label_std = \\\n",
    "                self._normalize_labels(self._load_labels())\n",
    "        '''\n",
    "        \n",
    "    def _load_audio(self):\n",
    "\n",
    "        audio_files = []\n",
    "        max_length = 0\n",
    "        \n",
    "        for a in os.listdir(self.audio_dir):\n",
    "            audio_files.append(a)\n",
    "            \n",
    "            audio_file = os.path.join(self.audio_dir, a)\n",
    "            waveform, _ = torchaudio.load(audio_file)\n",
    "            max_length = max(max_length, waveform.shape[1])\n",
    "        \n",
    "        return audio_files, max_length\n",
    "    \n",
    "    def _load_labels(self, audio_files):\n",
    "\n",
    "        labels = []\n",
    "        error  = False\n",
    "        \n",
    "        for filename in audio_files:\n",
    "            file = os.path.splitext(filename)[0] + '.label'\n",
    "            filepath = os.path.join(self.label_dir, file)\n",
    "            label = [0] * 4\n",
    "            try:\n",
    "                f = open(filepath, 'r')\n",
    "                for i in range(4):\n",
    "                    label[i] = int(f.readline())\n",
    "                labels.append(label)\n",
    "            except BaseException as e:\n",
    "                print(e)\n",
    "                error = True\n",
    "        \n",
    "        if error:\n",
    "            raise RuntimeError('Failed to load labels')\n",
    "            \n",
    "        return torch.Tensor(labels)\n",
    "                \n",
    "    def _normalize_labels(self, labels):\n",
    "        l_mean = labels.mean(dim=0)\n",
    "        l_std = labels.std(dim=0)\n",
    "        labels = (labels - l_mean) / l_std\n",
    "        return labels, l_mean, l_std\n",
    "        \n",
    "    def _pad_audio(self, data):\n",
    "        # longest = max(map(lambda x: x.shape[1], data))\n",
    "        for i in range(len(data)):\n",
    "            zeros = torch.zeros(2, (self.max_length - data[i].shape[1]))\n",
    "            data[i] = torch.cat((data[i], zeros), dim=1)\n",
    "        return torch.stack(data)\n",
    "    \n",
    "    def __len__(self):\n",
    "        return len(self.data)\n",
    "    \n",
    "    def __getitem__(self, idx):\n",
    "        # idx can be a tensor\n",
    "        audio_file = os.path.join(self.audio_dir, self.audio_files[idx])\n",
    "        waveform, _ = torchaudio.load(audio_file)\n",
    "        \n",
    "        padded_audio = self._pad_audio([waveform])\n",
    "        padded_audio = padded_audio.to(device)\n",
    "        return padded_audio, self.labels[idx]\n",
    "\n",
    "anime_audio_data = AnimeAudioDataset() "
   ]
  },
  {
   "cell_type": "markdown",
   "metadata": {},
   "source": [
    "## Define Network"
   ]
  },
  {
   "cell_type": "code",
   "execution_count": null,
   "metadata": {},
   "outputs": [],
   "source": [
    "class Net(nn.Module):\n",
    "    def __init__(self):\n",
    "        super(Net, self).__init__()\n",
    "        self.magic_num = 1103908 #234395 * 4\n",
    "        self.conv1 = nn.Conv1d(2, 4, 1600, stride=10)\n",
    "        self.pool = nn.MaxPool1d(5)\n",
    "        # self.conv2 = nn.Conv1d(4, 8, 400, stride=10)\n",
    "        self.fc1 = nn.Linear(self.magic_num, 4)\n",
    "        # self.fc2 = nn.Linear(10000, 100)\n",
    "        # self.fc3 = nn.Linear(100, 4)\n",
    "    \n",
    "    def forward(self, x):\n",
    "        x = self.pool(F.relu(self.conv1(x)))\n",
    "        # x = self.pool(F.relu(self.conv2(x)))\n",
    "        x = x.view(-1, self.magic_num)\n",
    "        # x = F.relu(self.fc1(x))\n",
    "        # x = F.relu(self.fc2(x))\n",
    "        # x = self.fc3(x)\n",
    "        x = self.fc1(x)\n",
    "        return x"
   ]
  },
  {
   "cell_type": "code",
   "execution_count": null,
   "metadata": {},
   "outputs": [],
   "source": [
    "net = Net()\n",
    "net.cuda()\n",
    "criterion = nn.MSELoss().to(device)\n",
    "optimizer = optim.SGD(net.parameters(), lr=0.003, momentum=0)"
   ]
  },
  {
   "cell_type": "markdown",
   "metadata": {},
   "source": [
    "# Train"
   ]
  },
  {
   "cell_type": "code",
   "execution_count": null,
   "metadata": {},
   "outputs": [],
   "source": [
    "for epoch in range(10):\n",
    "    \n",
    "    running_loss = 0\n",
    "    \n",
    "    for data, label in anime_audio_data:\n",
    "    \n",
    "        optimizer.zero_grad()\n",
    "        data, label = data, label.unsqueeze(0)\n",
    "        \n",
    "        output = net(data)\n",
    "        loss = criterion(output, label)\n",
    "        running_loss += loss.item()\n",
    "        loss.backward()\n",
    "        optimizer.step()\n",
    "        \n",
    "    print(\"loss:\", running_loss)"
   ]
  },
  {
   "cell_type": "markdown",
   "metadata": {},
   "source": [
    "# Compare actual labels"
   ]
  },
  {
   "cell_type": "code",
   "execution_count": null,
   "metadata": {},
   "outputs": [],
   "source": [
    "label_1 = \"data/Labels/nick/One_Punch_Man_1.label\"\n",
    "label_2 = \"data/Labels/nick/One_Punch_Man_5.label\"\n",
    "label_3 = \"data/Labels/nick/One_Punch_Man_6.label\"\n",
    "\n",
    "labels = []\n",
    "for filename in [label_1, label_2, label_3]:\n",
    "    f = open(filename, \"r\")\n",
    "    label = []\n",
    "    for i in range(4):\n",
    "        label.append(int(f.readline()))\n",
    "    labels.append(label)\n",
    "\n",
    "labels = torch.Tensor(labels)\n",
    "labels = labels.to(device)"
   ]
  },
  {
   "cell_type": "code",
   "execution_count": null,
   "metadata": {},
   "outputs": [],
   "source": [
    "for i, data in enumerate(anime_audio_data):\n",
    "    data, _ = data\n",
    "    data = data.unsqueeze(0)\n",
    "    out = net(data) * anime_audio_data.label_std.to(device) + anime_audio_data.label_mean.to(device)\n",
    "    print(out)\n",
    "    print(labels[i])"
   ]
  },
  {
   "cell_type": "code",
   "execution_count": null,
   "metadata": {},
   "outputs": [],
   "source": []
  },
  {
   "cell_type": "code",
   "execution_count": null,
   "metadata": {},
   "outputs": [],
   "source": []
  },
  {
   "cell_type": "code",
   "execution_count": null,
   "metadata": {},
   "outputs": [],
   "source": []
  },
  {
   "cell_type": "code",
   "execution_count": null,
   "metadata": {},
   "outputs": [],
   "source": []
  },
  {
   "cell_type": "code",
   "execution_count": null,
   "metadata": {},
   "outputs": [],
   "source": []
  },
  {
   "cell_type": "code",
   "execution_count": null,
   "metadata": {},
   "outputs": [],
   "source": []
  },
  {
   "cell_type": "code",
   "execution_count": null,
   "metadata": {},
   "outputs": [],
   "source": [
    "# util to find magic numbers\n",
    "x = data[0].unsqueeze(0)\n",
    "x = net.pool(F.relu(net.conv1(x)))\n",
    "print(x.shape)\n",
    "x = x.view(-1, 5859 * 16)\n",
    "# print(x.shape)\n",
    "x = F.relu(net.fc1(x))\n",
    "x = F.relu(net.fc2(x))\n",
    "x = net.fc3(x)\n",
    "print(x)\n",
    "pass"
   ]
  },
  {
   "cell_type": "code",
   "execution_count": null,
   "metadata": {},
   "outputs": [],
   "source": [
    "# find magic num\n",
    "x = data[0].unsqueeze(0)\n",
    "x = net.pool(F.relu(net.conv1(x)))\n",
    "# x = net.pool(F.relu(net.conv2(x)))\n",
    "print(x.shape)\n",
    "x = x.view(-1, net.magic_num)\n",
    "x = net.fc1(x)\n",
    "print(x)"
   ]
  },
  {
   "cell_type": "code",
   "execution_count": null,
   "metadata": {},
   "outputs": [],
   "source": []
  },
  {
   "cell_type": "code",
   "execution_count": null,
   "metadata": {},
   "outputs": [],
   "source": []
  }
 ],
 "metadata": {
  "kernelspec": {
   "display_name": "mykernel",
   "language": "python",
   "name": "mykernel"
  },
  "language_info": {
   "codemirror_mode": {
    "name": "ipython",
    "version": 3
   },
   "file_extension": ".py",
   "mimetype": "text/x-python",
   "name": "python",
   "nbconvert_exporter": "python",
   "pygments_lexer": "ipython3",
   "version": "3.6.8"
  }
 },
 "nbformat": 4,
 "nbformat_minor": 2
}
