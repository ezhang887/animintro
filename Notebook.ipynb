{
 "cells": [
  {
   "cell_type": "code",
   "execution_count": 1,
   "metadata": {},
   "outputs": [],
   "source": [
    "from src.dataset import AnimeAudioDataset\n",
    "from src.net import Net\n",
    "from src.utils import save_model, load_model, predict\n",
    "\n",
    "import torchaudio\n",
    "import torch\n",
    "import os\n",
    "\n",
    "import matplotlib.pyplot as plt\n",
    "import numpy as np\n",
    "import torch.nn as nn\n",
    "import torch.optim as optim\n",
    "import torch.nn.functional as F\n",
    "\n",
    "from torch.utils.data import Dataset\n",
    "\n",
    "device = torch.device(\"cuda\")"
   ]
  },
  {
   "cell_type": "markdown",
   "metadata": {},
   "source": [
    "## Load Data"
   ]
  },
  {
   "cell_type": "code",
   "execution_count": 2,
   "metadata": {},
   "outputs": [],
   "source": [
    "anime_audio_data = AnimeAudioDataset(device)"
   ]
  },
  {
   "cell_type": "markdown",
   "metadata": {},
   "source": [
    "## Define Network"
   ]
  },
  {
   "cell_type": "code",
   "execution_count": 3,
   "metadata": {},
   "outputs": [],
   "source": [
    "batch_size = 3\n",
    "net = Net(batch_size, anime_audio_data.max_length, anime_audio_data.l_mean, anime_audio_data.l_std)\n",
    "net.cuda()\n",
    "criterion = nn.MSELoss().to(device)\n",
    "optimizer = optim.SGD(net.parameters(), lr=0.001, momentum=0)"
   ]
  },
  {
   "cell_type": "code",
   "execution_count": 4,
   "metadata": {},
   "outputs": [
    {
     "data": {
      "text/plain": [
       "9"
      ]
     },
     "execution_count": 4,
     "metadata": {},
     "output_type": "execute_result"
    }
   ],
   "source": [
    "load_model(\"test.model\", net, optimizer)"
   ]
  },
  {
   "cell_type": "code",
   "execution_count": 41,
   "metadata": {},
   "outputs": [],
   "source": [
    "dataloader = torch.utils.data.DataLoader(anime_audio_data, batch_size=batch_size, shuffle=True)"
   ]
  },
  {
   "cell_type": "markdown",
   "metadata": {},
   "source": [
    "# Train"
   ]
  },
  {
   "cell_type": "code",
   "execution_count": null,
   "metadata": {},
   "outputs": [
    {
     "name": "stdout",
     "output_type": "stream",
     "text": [
      "loss: 0.0003207752415619325\n",
      "loss: 0.00042806966303032823\n",
      "loss: 0.0006737194562447257\n",
      "loss: 0.0003324301242173533\n",
      "loss: 0.0004525403928710148\n",
      "loss: 0.00027878620494448114\n",
      "loss: 0.0006532271145260893\n",
      "loss: 0.0002477251437085215\n",
      "loss: 0.0003225981017749291\n",
      "loss: 0.0013520068459911272\n",
      "loss: 0.00023205029174278025\n",
      "loss: 0.0002960552828881191\n",
      "loss: 0.00020813575974898413\n",
      "loss: 0.00027318836146150716\n",
      "loss: 0.0003177058752044104\n",
      "loss: 0.0003497104462439893\n",
      "loss: 0.00033027897006832063\n",
      "loss: 0.0003761379011848476\n",
      "loss: 0.00016255309128609952\n",
      "loss: 0.00018672613441594876\n",
      "loss: 6.26860091870185e-05\n",
      "loss: 9.515970759821357e-05\n",
      "loss: 0.00015142260235734284\n",
      "loss: 0.00023108592904463876\n",
      "loss: 0.00032268610812025145\n",
      "loss: 0.0002900924991990905\n",
      "loss: 0.000126515065858257\n",
      "loss: 0.00015961114786477992\n",
      "loss: 0.00018724164328887127\n",
      "loss: 0.00022657685576632502\n",
      "loss: 8.015564435481792e-05\n",
      "loss: 0.00014768033543077763\n",
      "loss: 0.00011310154695820529\n",
      "loss: 7.234696568048093e-05\n",
      "loss: 9.750164645083714e-05\n",
      "loss: 7.760180915283854e-05\n"
     ]
    }
   ],
   "source": [
    "net.train()\n",
    "\n",
    "for epoch in range(50):\n",
    "    \n",
    "    running_loss = 0\n",
    "    \n",
    "    for data, label in dataloader:\n",
    "        label = label.flatten()      \n",
    "        optimizer.zero_grad()\n",
    "        data, label = data, label\n",
    "        output = net(data)\n",
    "        loss = criterion(output, label)\n",
    "        running_loss += loss.item()\n",
    "        loss.backward()\n",
    "        optimizer.step()\n",
    "        \n",
    "    print(\"loss:\", running_loss)"
   ]
  },
  {
   "cell_type": "code",
   "execution_count": 49,
   "metadata": {},
   "outputs": [
    {
     "name": "stdout",
     "output_type": "stream",
     "text": [
      "tensor([   8945.0752,   91498.9375, 1358045.5000, 1448425.3750])\n"
     ]
    }
   ],
   "source": [
    "save_model(\"test.model\", net, optimizer, epoch)\n",
    "net.eval()\n",
    "with torch.no_grad():\n",
    "    rv = predict(\"data/Audio/Boku_no_Hero_Academia_10.wav\", net, batch_size)\n",
    "print(rv.mean(axis=0))"
   ]
  },
  {
   "cell_type": "markdown",
   "metadata": {},
   "source": [
    "# Compare actual labels"
   ]
  },
  {
   "cell_type": "code",
   "execution_count": null,
   "metadata": {},
   "outputs": [],
   "source": [
    "label_1 = \"data/Labels/nick/One_Punch_Man_1.label\"\n",
    "label_2 = \"data/Labels/nick/One_Punch_Man_5.label\"\n",
    "label_3 = \"data/Labels/nick/One_Punch_Man_6.label\"\n",
    "\n",
    "labels = []\n",
    "for filename in [label_1, label_2, label_3]:\n",
    "    f = open(filename, \"r\")\n",
    "    label = []\n",
    "    for i in range(4):\n",
    "        label.append(int(f.readline()))\n",
    "    labels.append(label)\n",
    "\n",
    "labels = torch.Tensor(labels)\n",
    "labels = labels.to(device)"
   ]
  },
  {
   "cell_type": "code",
   "execution_count": null,
   "metadata": {},
   "outputs": [],
   "source": [
    "for i in range(len(anime_audio_data.audio_files)):\n",
    "    if anime_audio_data.audio_files[i].startswith('One'):\n",
    "        print(anime_audio_data.audio_files[i], i)"
   ]
  },
  {
   "cell_type": "code",
   "execution_count": null,
   "metadata": {},
   "outputs": [],
   "source": [
    "'''\n",
    "for i, data in enumerate(anime_audio_data):\n",
    "    data, _ = data\n",
    "    #data = data.unsqueeze(0)\n",
    "    out = net(data) * anime_audio_data.l_std.to(device) + anime_audio_data.l_mean.to(device)\n",
    "    print(out)\n",
    "    print(labels[i])\n",
    "'''\n",
    "def temp(data):\n",
    "    audio, label = data\n",
    "    out = net(audio.unsqueeze(0)) * anime_audio_data.l_std.to(device) + anime_audio_data.l_mean.to(device)\n",
    "    label = label * anime_audio_data.l_std.to(device) + anime_audio_data.l_mean.to(device)\n",
    "    print(out)\n",
    "    print(label)\n",
    "temp(anime_audio_data[2])\n",
    "temp(anime_audio_data[3])\n",
    "temp(anime_audio_data[4])"
   ]
  },
  {
   "cell_type": "code",
   "execution_count": null,
   "metadata": {},
   "outputs": [],
   "source": []
  },
  {
   "cell_type": "code",
   "execution_count": null,
   "metadata": {},
   "outputs": [],
   "source": []
  },
  {
   "cell_type": "code",
   "execution_count": null,
   "metadata": {},
   "outputs": [],
   "source": []
  },
  {
   "cell_type": "code",
   "execution_count": null,
   "metadata": {},
   "outputs": [],
   "source": []
  },
  {
   "cell_type": "code",
   "execution_count": null,
   "metadata": {},
   "outputs": [],
   "source": []
  },
  {
   "cell_type": "code",
   "execution_count": null,
   "metadata": {},
   "outputs": [],
   "source": []
  },
  {
   "cell_type": "code",
   "execution_count": null,
   "metadata": {},
   "outputs": [],
   "source": [
    "# util to find magic numbers\n",
    "x = data[0].unsqueeze(0)\n",
    "x = net.pool(F.relu(net.conv1(x)))\n",
    "print(x.shape)\n",
    "x = x.view(-1, 5859 * 16)\n",
    "# print(x.shape)\n",
    "x = F.relu(net.fc1(x))\n",
    "x = F.relu(net.fc2(x))\n",
    "x = net.fc3(x)\n",
    "print(x)\n",
    "pass"
   ]
  },
  {
   "cell_type": "code",
   "execution_count": null,
   "metadata": {},
   "outputs": [],
   "source": [
    "# find magic num\n",
    "x = data[0].unsqueeze(0)\n",
    "x = net.pool(F.relu(net.conv1(x)))\n",
    "# x = net.pool(F.relu(net.conv2(x)))\n",
    "print(x.shape)\n",
    "x = x.view(-1, net.magic_num)\n",
    "x = net.fc1(x)\n",
    "print(x)"
   ]
  },
  {
   "cell_type": "code",
   "execution_count": null,
   "metadata": {},
   "outputs": [],
   "source": []
  },
  {
   "cell_type": "code",
   "execution_count": null,
   "metadata": {},
   "outputs": [],
   "source": []
  }
 ],
 "metadata": {
  "kernelspec": {
   "display_name": "Python 3",
   "language": "python",
   "name": "python3"
  },
  "language_info": {
   "codemirror_mode": {
    "name": "ipython",
    "version": 3
   },
   "file_extension": ".py",
   "mimetype": "text/x-python",
   "name": "python",
   "nbconvert_exporter": "python",
   "pygments_lexer": "ipython3",
   "version": "3.8.5"
  }
 },
 "nbformat": 4,
 "nbformat_minor": 2
}
