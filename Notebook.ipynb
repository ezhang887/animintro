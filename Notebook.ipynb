{
 "cells": [
  {
   "cell_type": "code",
   "execution_count": null,
   "metadata": {},
   "outputs": [],
   "source": [
    "import torchaudio\n",
    "import torch\n",
    "\n",
    "import matplotlib.pyplot as plt\n",
    "import numpy as np\n",
    "import torch.nn as nn\n",
    "import torch.optim as optim\n",
    "import torch.nn.functional as F\n",
    "\n",
    "from torch.utils.data import Dataset\n",
    "\n",
    "device = torch.device(\"cuda\")"
   ]
  },
  {
   "cell_type": "markdown",
   "metadata": {},
   "source": [
    "## Load Data"
   ]
  },
  {
   "cell_type": "code",
   "execution_count": null,
   "metadata": {},
   "outputs": [],
   "source": [
    "class AnimeAudioDataset(Dataset):\n",
    "    \n",
    "    def __init__(self):\n",
    "                \n",
    "        self.data = self._pad_audio(self._load_audio())\n",
    "        self.labels, self.label_mean, self.label_std = \\\n",
    "                self._normalize_labels(self._load_labels())\n",
    "        \n",
    "        self.data = self.data.to(device)\n",
    "        self.labels = self.labels.to(device)\n",
    "        \n",
    "    def _load_audio(self):\n",
    "        aud_1 = \"data/Audio/One_Punch_Man_1.wav\"\n",
    "        aud_2 = \"data/Audio/One_Punch_Man_5.wav\"\n",
    "        aud_3 = \"data/Audio/One_Punch_Man_6.wav\"\n",
    "\n",
    "        waveform_1, sample_freq_1 = torchaudio.load(aud_1)\n",
    "        waveform_2, sample_freq_2 = torchaudio.load(aud_2)\n",
    "        waveform_3, sample_freq_3 = torchaudio.load(aud_3)\n",
    "\n",
    "        data = []\n",
    "        data.append(waveform_1)\n",
    "        data.append(waveform_2)\n",
    "        data.append(waveform_3)\n",
    "        return data\n",
    "    \n",
    "    def _load_labels(self):\n",
    "        label_1 = \"data/Labels/nick/One_Punch_Man_1.label\"\n",
    "        label_2 = \"data/Labels/nick/One_Punch_Man_5.label\"\n",
    "        label_3 = \"data/Labels/nick/One_Punch_Man_6.label\"\n",
    "\n",
    "        labels = []\n",
    "        for filename in [label_1, label_2, label_3]:\n",
    "            f = open(filename, \"r\")\n",
    "            label = []\n",
    "            for i in range(4):\n",
    "                label.append(int(f.readline()))\n",
    "            labels.append(label)\n",
    "            \n",
    "        return torch.Tensor(labels)\n",
    "    \n",
    "    def _normalize_labels(self, labels):\n",
    "        l_mean = labels.mean(dim=0)\n",
    "        l_std = labels.std(dim=0)\n",
    "        labels = (labels - l_mean) / l_std\n",
    "        return labels, l_mean, l_std\n",
    "        \n",
    "    def _pad_audio(self, data):\n",
    "        longest = max(map(lambda x: x.shape[1], data))\n",
    "        for i in range(len(data)):\n",
    "            zeros = torch.zeros(2, (longest - data[i].shape[1]))\n",
    "            data[i] = torch.cat((data[i], zeros), dim=1)\n",
    "        return torch.stack(data)\n",
    "    \n",
    "    def __len__(self):\n",
    "        return len(self.data)\n",
    "    \n",
    "    def __getitem__(self, idx):\n",
    "        # idx can be a tensor\n",
    "        return self.data[idx], self.labels[idx]\n",
    "\n",
    "anime_audio_data = AnimeAudioDataset() "
   ]
  },
  {
   "cell_type": "markdown",
   "metadata": {},
   "source": [
    "## Define Network"
   ]
  },
  {
   "cell_type": "code",
   "execution_count": null,
   "metadata": {},
   "outputs": [],
   "source": [
    "class Net(nn.Module):\n",
    "    def __init__(self):\n",
    "        super(Net, self).__init__()\n",
    "        self.magic_num = 234395 * 4\n",
    "        self.conv1 = nn.Conv1d(2, 4, 1600, stride=10)\n",
    "        self.pool = nn.MaxPool1d(5)\n",
    "        # self.conv2 = nn.Conv1d(4, 8, 400, stride=10)\n",
    "        self.fc1 = nn.Linear(self.magic_num, 4)\n",
    "        # self.fc2 = nn.Linear(10000, 100)\n",
    "        # self.fc3 = nn.Linear(100, 4)\n",
    "    \n",
    "    def forward(self, x):\n",
    "        x = self.pool(F.relu(self.conv1(x)))\n",
    "        # x = self.pool(F.relu(self.conv2(x)))\n",
    "        x = x.view(-1, self.magic_num)\n",
    "        # x = F.relu(self.fc1(x))\n",
    "        # x = F.relu(self.fc2(x))\n",
    "        # x = self.fc3(x)\n",
    "        x = self.fc1(x)\n",
    "        return x"
   ]
  },
  {
   "cell_type": "code",
   "execution_count": null,
   "metadata": {},
   "outputs": [],
   "source": [
    "net = Net()\n",
    "net.cuda()\n",
    "criterion = nn.MSELoss().to(device)\n",
    "optimizer = optim.SGD(net.parameters(), lr=0.003, momentum=0)"
   ]
  },
  {
   "cell_type": "markdown",
   "metadata": {},
   "source": [
    "# Train"
   ]
  },
  {
   "cell_type": "code",
   "execution_count": null,
   "metadata": {},
   "outputs": [],
   "source": [
    "for epoch in range(10):\n",
    "    \n",
    "    running_loss = 0\n",
    "    \n",
    "    for data, label in anime_audio_data:\n",
    "    \n",
    "        optimizer.zero_grad()\n",
    "        data, label = data.unsqueeze(0), label.unsqueeze(0)\n",
    "\n",
    "        output = net(data)\n",
    "        loss = criterion(output, label)\n",
    "        running_loss += loss.item()\n",
    "        loss.backward()\n",
    "        optimizer.step()\n",
    "        \n",
    "    print(\"loss:\", running_loss)"
   ]
  },
  {
   "cell_type": "markdown",
   "metadata": {},
   "source": [
    "# Compare actual labels"
   ]
  },
  {
   "cell_type": "code",
   "execution_count": null,
   "metadata": {},
   "outputs": [],
   "source": [
    "label_1 = \"data/Labels/nick/One_Punch_Man_1.label\"\n",
    "label_2 = \"data/Labels/nick/One_Punch_Man_5.label\"\n",
    "label_3 = \"data/Labels/nick/One_Punch_Man_6.label\"\n",
    "\n",
    "labels = []\n",
    "for filename in [label_1, label_2, label_3]:\n",
    "    f = open(filename, \"r\")\n",
    "    label = []\n",
    "    for i in range(4):\n",
    "        label.append(int(f.readline()))\n",
    "    labels.append(label)\n",
    "\n",
    "labels = torch.Tensor(labels)\n",
    "labels = labels.to(device)"
   ]
  },
  {
   "cell_type": "code",
   "execution_count": null,
   "metadata": {},
   "outputs": [],
   "source": [
    "for i, data in enumerate(anime_audio_data):\n",
    "    data, _ = data\n",
    "    data = data.unsqueeze(0)\n",
    "    out = net(data) * anime_audio_data.label_std.to(device) + anime_audio_data.label_mean.to(device)\n",
    "    print(out)\n",
    "    print(labels[i])"
   ]
  },
  {
   "cell_type": "code",
   "execution_count": null,
   "metadata": {},
   "outputs": [],
   "source": []
  },
  {
   "cell_type": "code",
   "execution_count": null,
   "metadata": {},
   "outputs": [],
   "source": []
  },
  {
   "cell_type": "code",
   "execution_count": null,
   "metadata": {},
   "outputs": [],
   "source": []
  },
  {
   "cell_type": "code",
   "execution_count": null,
   "metadata": {},
   "outputs": [],
   "source": []
  },
  {
   "cell_type": "code",
   "execution_count": null,
   "metadata": {},
   "outputs": [],
   "source": []
  },
  {
   "cell_type": "code",
   "execution_count": null,
   "metadata": {},
   "outputs": [],
   "source": []
  },
  {
   "cell_type": "code",
   "execution_count": null,
   "metadata": {},
   "outputs": [],
   "source": [
    "# util to find magic numbers\n",
    "x = data[0].unsqueeze(0)\n",
    "x = net.pool(F.relu(net.conv1(x)))\n",
    "print(x.shape)\n",
    "x = x.view(-1, 5859 * 16)\n",
    "# print(x.shape)\n",
    "x = F.relu(net.fc1(x))\n",
    "x = F.relu(net.fc2(x))\n",
    "x = net.fc3(x)\n",
    "print(x)\n",
    "pass"
   ]
  },
  {
   "cell_type": "code",
   "execution_count": null,
   "metadata": {},
   "outputs": [],
   "source": [
    "# find magic num\n",
    "x = data[0].unsqueeze(0)\n",
    "x = net.pool(F.relu(net.conv1(x)))\n",
    "# x = net.pool(F.relu(net.conv2(x)))\n",
    "print(x.shape)\n",
    "x = x.view(-1, net.magic_num)\n",
    "x = net.fc1(x)\n",
    "print(x)"
   ]
  },
  {
   "cell_type": "code",
   "execution_count": null,
   "metadata": {},
   "outputs": [],
   "source": []
  },
  {
   "cell_type": "code",
   "execution_count": null,
   "metadata": {},
   "outputs": [],
   "source": []
  }
 ],
 "metadata": {
  "kernelspec": {
   "display_name": "mykernel",
   "language": "python",
   "name": "mykernel"
  },
  "language_info": {
   "codemirror_mode": {
    "name": "ipython",
    "version": 3
   },
   "file_extension": ".py",
   "mimetype": "text/x-python",
   "name": "python",
   "nbconvert_exporter": "python",
   "pygments_lexer": "ipython3",
   "version": "3.6.8"
  }
 },
 "nbformat": 4,
 "nbformat_minor": 2
}
