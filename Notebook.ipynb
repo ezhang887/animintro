{
 "cells": [
  {
   "cell_type": "code",
   "execution_count": 1,
   "metadata": {},
   "outputs": [],
   "source": [
    "from src.dataset import AnimeAudioDataset\n",
    "from src.net import Net\n",
    "from src.utils import save_model, load_model\n",
    "\n",
    "import torchaudio\n",
    "import torch\n",
    "import os\n",
    "\n",
    "import matplotlib.pyplot as plt\n",
    "import numpy as np\n",
    "import torch.nn as nn\n",
    "import torch.optim as optim\n",
    "import torch.nn.functional as F\n",
    "\n",
    "from torch.utils.data import Dataset\n",
    "\n",
    "device = torch.device(\"cuda\")"
   ]
  },
  {
   "cell_type": "markdown",
   "metadata": {},
   "source": [
    "## Load Data"
   ]
  },
  {
   "cell_type": "code",
   "execution_count": 2,
   "metadata": {},
   "outputs": [],
   "source": [
    "anime_audio_data = AnimeAudioDataset(device)"
   ]
  },
  {
   "cell_type": "markdown",
   "metadata": {},
   "source": [
    "## Define Network"
   ]
  },
  {
   "cell_type": "code",
   "execution_count": 3,
   "metadata": {},
   "outputs": [],
   "source": [
    "batch_size = 4\n",
    "net = Net(anime_audio_data.max_length, batch_size)\n",
    "net.cuda()\n",
    "criterion = nn.MSELoss().to(device)\n",
    "optimizer = optim.SGD(net.parameters(), lr=0.001, momentum=0)"
   ]
  },
  {
   "cell_type": "code",
   "execution_count": 4,
   "metadata": {},
   "outputs": [],
   "source": [
    "load_model(\"test.model\", net, optimizer)"
   ]
  },
  {
   "cell_type": "markdown",
   "metadata": {},
   "source": [
    "# Train"
   ]
  },
  {
   "cell_type": "code",
   "execution_count": 5,
   "metadata": {},
   "outputs": [
    {
     "name": "stderr",
     "output_type": "stream",
     "text": [
      "/home/ezhang/miniconda3/envs/pytorch/lib/python3.8/site-packages/torch/nn/modules/loss.py:445: UserWarning: Using a target size (torch.Size([4, 4])) that is different to the input size (torch.Size([1, 4])). This will likely lead to incorrect results due to broadcasting. Please ensure they have the same size.\n",
      "  return F.mse_loss(input, target, reduction=self.reduction)\n"
     ]
    },
    {
     "name": "stdout",
     "output_type": "stream",
     "text": [
      "loss: 2.757604330778122\n",
      "loss: 2.6741271317005157\n",
      "loss: 2.7563058882951736\n",
      "loss: 2.6797868609428406\n",
      "loss: 2.5730775594711304\n",
      "loss: 2.651906967163086\n",
      "loss: 2.766508638858795\n",
      "loss: 2.5252223014831543\n",
      "loss: 2.7205781042575836\n",
      "loss: 2.6042886078357697\n"
     ]
    }
   ],
   "source": [
    "dataloader = torch.utils.data.DataLoader(anime_audio_data, batch_size=batch_size, shuffle=True)\n",
    "\n",
    "for epoch in range(10):\n",
    "    \n",
    "    running_loss = 0\n",
    "    \n",
    "    for data, label in dataloader:\n",
    "        \n",
    "        optimizer.zero_grad()\n",
    "        data, label = data, label\n",
    "        output = net(data)\n",
    "        loss = criterion(output, label)\n",
    "        running_loss += loss.item()\n",
    "        loss.backward()\n",
    "        optimizer.step()\n",
    "        \n",
    "    print(\"loss:\", running_loss)"
   ]
  },
  {
   "cell_type": "code",
   "execution_count": 5,
   "metadata": {},
   "outputs": [],
   "source": [
    "save_model(\"test.model\", net, optimizer, epoch)"
   ]
  },
  {
   "cell_type": "code",
   "execution_count": null,
   "metadata": {},
   "outputs": [],
   "source": []
  },
  {
   "cell_type": "markdown",
   "metadata": {},
   "source": [
    "# Compare actual labels"
   ]
  },
  {
   "cell_type": "code",
   "execution_count": null,
   "metadata": {},
   "outputs": [],
   "source": [
    "label_1 = \"data/Labels/nick/One_Punch_Man_1.label\"\n",
    "label_2 = \"data/Labels/nick/One_Punch_Man_5.label\"\n",
    "label_3 = \"data/Labels/nick/One_Punch_Man_6.label\"\n",
    "\n",
    "labels = []\n",
    "for filename in [label_1, label_2, label_3]:\n",
    "    f = open(filename, \"r\")\n",
    "    label = []\n",
    "    for i in range(4):\n",
    "        label.append(int(f.readline()))\n",
    "    labels.append(label)\n",
    "\n",
    "labels = torch.Tensor(labels)\n",
    "labels = labels.to(device)"
   ]
  },
  {
   "cell_type": "code",
   "execution_count": null,
   "metadata": {},
   "outputs": [],
   "source": [
    "for i in range(len(anime_audio_data.audio_files)):\n",
    "    if anime_audio_data.audio_files[i].startswith('One'):\n",
    "        print(anime_audio_data.audio_files[i], i)"
   ]
  },
  {
   "cell_type": "code",
   "execution_count": null,
   "metadata": {},
   "outputs": [],
   "source": [
    "'''\n",
    "for i, data in enumerate(anime_audio_data):\n",
    "    data, _ = data\n",
    "    #data = data.unsqueeze(0)\n",
    "    out = net(data) * anime_audio_data.l_std.to(device) + anime_audio_data.l_mean.to(device)\n",
    "    print(out)\n",
    "    print(labels[i])\n",
    "'''\n",
    "def temp(data):\n",
    "    audio, label = data\n",
    "    out = net(audio.unsqueeze(0)) * anime_audio_data.l_std.to(device) + anime_audio_data.l_mean.to(device)\n",
    "    label = label * anime_audio_data.l_std.to(device) + anime_audio_data.l_mean.to(device)\n",
    "    print(out)\n",
    "    print(label)\n",
    "temp(anime_audio_data[2])\n",
    "temp(anime_audio_data[3])\n",
    "temp(anime_audio_data[4])"
   ]
  },
  {
   "cell_type": "code",
   "execution_count": null,
   "metadata": {},
   "outputs": [],
   "source": []
  },
  {
   "cell_type": "code",
   "execution_count": null,
   "metadata": {},
   "outputs": [],
   "source": []
  },
  {
   "cell_type": "code",
   "execution_count": null,
   "metadata": {},
   "outputs": [],
   "source": []
  },
  {
   "cell_type": "code",
   "execution_count": null,
   "metadata": {},
   "outputs": [],
   "source": []
  },
  {
   "cell_type": "code",
   "execution_count": null,
   "metadata": {},
   "outputs": [],
   "source": []
  },
  {
   "cell_type": "code",
   "execution_count": null,
   "metadata": {},
   "outputs": [],
   "source": []
  },
  {
   "cell_type": "code",
   "execution_count": null,
   "metadata": {},
   "outputs": [],
   "source": [
    "# util to find magic numbers\n",
    "x = data[0].unsqueeze(0)\n",
    "x = net.pool(F.relu(net.conv1(x)))\n",
    "print(x.shape)\n",
    "x = x.view(-1, 5859 * 16)\n",
    "# print(x.shape)\n",
    "x = F.relu(net.fc1(x))\n",
    "x = F.relu(net.fc2(x))\n",
    "x = net.fc3(x)\n",
    "print(x)\n",
    "pass"
   ]
  },
  {
   "cell_type": "code",
   "execution_count": null,
   "metadata": {},
   "outputs": [],
   "source": [
    "# find magic num\n",
    "x = data[0].unsqueeze(0)\n",
    "x = net.pool(F.relu(net.conv1(x)))\n",
    "# x = net.pool(F.relu(net.conv2(x)))\n",
    "print(x.shape)\n",
    "x = x.view(-1, net.magic_num)\n",
    "x = net.fc1(x)\n",
    "print(x)"
   ]
  },
  {
   "cell_type": "code",
   "execution_count": null,
   "metadata": {},
   "outputs": [],
   "source": []
  },
  {
   "cell_type": "code",
   "execution_count": null,
   "metadata": {},
   "outputs": [],
   "source": []
  }
 ],
 "metadata": {
  "kernelspec": {
   "display_name": "Python 3",
   "language": "python",
   "name": "python3"
  },
  "language_info": {
   "codemirror_mode": {
    "name": "ipython",
    "version": 3
   },
   "file_extension": ".py",
   "mimetype": "text/x-python",
   "name": "python",
   "nbconvert_exporter": "python",
   "pygments_lexer": "ipython3",
   "version": "3.8.5"
  }
 },
 "nbformat": 4,
 "nbformat_minor": 2
}
