{
 "cells": [
  {
   "cell_type": "code",
   "execution_count": 2,
   "metadata": {},
   "outputs": [],
   "source": [
    "from src.dataset import AnimeAudioDataset\n",
    "from src.net import Net\n",
    "\n",
    "import torchaudio\n",
    "import torch\n",
    "import os\n",
    "\n",
    "import matplotlib.pyplot as plt\n",
    "import numpy as np\n",
    "import torch.nn as nn\n",
    "import torch.optim as optim\n",
    "import torch.nn.functional as F\n",
    "\n",
    "from torch.utils.data import Dataset\n",
    "\n",
    "device = torch.device(\"cuda\")"
   ]
  },
  {
   "cell_type": "markdown",
   "metadata": {},
   "source": [
    "## Load Data"
   ]
  },
  {
   "cell_type": "code",
   "execution_count": 3,
   "metadata": {},
   "outputs": [],
   "source": [
    "anime_audio_data = AnimeAudioDataset(device)"
   ]
  },
  {
   "cell_type": "markdown",
   "metadata": {},
   "source": [
    "## Define Network"
   ]
  },
  {
   "cell_type": "code",
   "execution_count": 4,
   "metadata": {},
   "outputs": [],
   "source": [
    "net = Net()\n",
    "net.cuda()\n",
    "criterion = nn.MSELoss().to(device)\n",
    "optimizer = optim.SGD(net.parameters(), lr=0.001, momentum=0)"
   ]
  },
  {
   "cell_type": "markdown",
   "metadata": {},
   "source": [
    "# Train"
   ]
  },
  {
   "cell_type": "code",
   "execution_count": 5,
   "metadata": {},
   "outputs": [
    {
     "name": "stdout",
     "output_type": "stream",
     "text": [
      "loss: 7.602207183837891\n",
      "loss: 7.900645658373833\n",
      "loss: 5.790667653083801\n",
      "loss: 5.530331775546074\n",
      "loss: 3.9847943112254143\n",
      "loss: 3.1983962953090668\n",
      "loss: 2.5764145366847515\n",
      "loss: 2.301895074546337\n",
      "loss: 2.017788514494896\n",
      "loss: 1.7637730613350868\n"
     ]
    }
   ],
   "source": [
    "dataloader = torch.utils.data.DataLoader(anime_audio_data, batch_size=5, shuffle=True)\n",
    "\n",
    "for epoch in range(10):\n",
    "    \n",
    "    running_loss = 0\n",
    "    \n",
    "    for data, label in dataloader:\n",
    "        \n",
    "        optimizer.zero_grad()\n",
    "        data, label = data, label\n",
    "        \n",
    "        output = net(data)\n",
    "        loss = criterion(output, label)\n",
    "        running_loss += loss.item()\n",
    "        loss.backward()\n",
    "        optimizer.step()\n",
    "        \n",
    "    print(\"loss:\", running_loss)"
   ]
  },
  {
   "cell_type": "markdown",
   "metadata": {},
   "source": [
    "# Compare actual labels"
   ]
  },
  {
   "cell_type": "code",
   "execution_count": null,
   "metadata": {},
   "outputs": [],
   "source": [
    "label_1 = \"data/Labels/nick/One_Punch_Man_1.label\"\n",
    "label_2 = \"data/Labels/nick/One_Punch_Man_5.label\"\n",
    "label_3 = \"data/Labels/nick/One_Punch_Man_6.label\"\n",
    "\n",
    "labels = []\n",
    "for filename in [label_1, label_2, label_3]:\n",
    "    f = open(filename, \"r\")\n",
    "    label = []\n",
    "    for i in range(4):\n",
    "        label.append(int(f.readline()))\n",
    "    labels.append(label)\n",
    "\n",
    "labels = torch.Tensor(labels)\n",
    "labels = labels.to(device)"
   ]
  },
  {
   "cell_type": "code",
   "execution_count": null,
   "metadata": {},
   "outputs": [],
   "source": [
    "for i in range(len(anime_audio_data.audio_files)):\n",
    "    if anime_audio_data.audio_files[i].startswith('One'):\n",
    "        print(anime_audio_data.audio_files[i], i)"
   ]
  },
  {
   "cell_type": "code",
   "execution_count": null,
   "metadata": {},
   "outputs": [],
   "source": [
    "'''\n",
    "for i, data in enumerate(anime_audio_data):\n",
    "    data, _ = data\n",
    "    #data = data.unsqueeze(0)\n",
    "    out = net(data) * anime_audio_data.l_std.to(device) + anime_audio_data.l_mean.to(device)\n",
    "    print(out)\n",
    "    print(labels[i])\n",
    "'''\n",
    "def temp(data):\n",
    "    audio, label = data\n",
    "    out = net(audio.unsqueeze(0)) * anime_audio_data.l_std.to(device) + anime_audio_data.l_mean.to(device)\n",
    "    label = label * anime_audio_data.l_std.to(device) + anime_audio_data.l_mean.to(device)\n",
    "    print(out)\n",
    "    print(label)\n",
    "temp(anime_audio_data[2])\n",
    "temp(anime_audio_data[3])\n",
    "temp(anime_audio_data[4])"
   ]
  },
  {
   "cell_type": "code",
   "execution_count": null,
   "metadata": {},
   "outputs": [],
   "source": []
  },
  {
   "cell_type": "code",
   "execution_count": null,
   "metadata": {},
   "outputs": [],
   "source": []
  },
  {
   "cell_type": "code",
   "execution_count": null,
   "metadata": {},
   "outputs": [],
   "source": []
  },
  {
   "cell_type": "code",
   "execution_count": null,
   "metadata": {},
   "outputs": [],
   "source": []
  },
  {
   "cell_type": "code",
   "execution_count": null,
   "metadata": {},
   "outputs": [],
   "source": []
  },
  {
   "cell_type": "code",
   "execution_count": null,
   "metadata": {},
   "outputs": [],
   "source": []
  },
  {
   "cell_type": "code",
   "execution_count": null,
   "metadata": {},
   "outputs": [],
   "source": [
    "# util to find magic numbers\n",
    "x = data[0].unsqueeze(0)\n",
    "x = net.pool(F.relu(net.conv1(x)))\n",
    "print(x.shape)\n",
    "x = x.view(-1, 5859 * 16)\n",
    "# print(x.shape)\n",
    "x = F.relu(net.fc1(x))\n",
    "x = F.relu(net.fc2(x))\n",
    "x = net.fc3(x)\n",
    "print(x)\n",
    "pass"
   ]
  },
  {
   "cell_type": "code",
   "execution_count": null,
   "metadata": {},
   "outputs": [],
   "source": [
    "# find magic num\n",
    "x = data[0].unsqueeze(0)\n",
    "x = net.pool(F.relu(net.conv1(x)))\n",
    "# x = net.pool(F.relu(net.conv2(x)))\n",
    "print(x.shape)\n",
    "x = x.view(-1, net.magic_num)\n",
    "x = net.fc1(x)\n",
    "print(x)"
   ]
  },
  {
   "cell_type": "code",
   "execution_count": null,
   "metadata": {},
   "outputs": [],
   "source": []
  },
  {
   "cell_type": "code",
   "execution_count": null,
   "metadata": {},
   "outputs": [],
   "source": []
  }
 ],
 "metadata": {
  "kernelspec": {
   "display_name": "mykernel",
   "language": "python",
   "name": "mykernel"
  },
  "language_info": {
   "codemirror_mode": {
    "name": "ipython",
    "version": 3
   },
   "file_extension": ".py",
   "mimetype": "text/x-python",
   "name": "python",
   "nbconvert_exporter": "python",
   "pygments_lexer": "ipython3",
   "version": "3.6.8"
  }
 },
 "nbformat": 4,
 "nbformat_minor": 2
}
